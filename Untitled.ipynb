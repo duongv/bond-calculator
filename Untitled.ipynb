{
 "cells": [
  {
   "cell_type": "code",
   "execution_count": 2,
   "metadata": {},
   "outputs": [],
   "source": [
    "import pandas as pd\n",
    "%load_ext autoreload\n",
    "%autoreload 2\n",
    "%matplotlib inline\n",
    "import edhec_risk_kit as erk\n",
    "import numpy as np\n",
    "from scipy.optimize import minimize\n",
    "import matplotlib.pyplot as plt\n",
    "import collections\n",
    "import math\n",
    "import ipywidgets as widgets\n",
    "import yfinance as yf"
   ]
  },
  {
   "cell_type": "code",
   "execution_count": 5,
   "metadata": {},
   "outputs": [],
   "source": [
    "# using built in function to load data\n",
    "ind_1 = erk.get_ind_returns()\n",
    "ind_nfirms = erk.get_ind_nfirms()\n",
    "ind_size = erk.get_ind_size()"
   ]
  },
  {
   "cell_type": "code",
   "execution_count": 5,
   "metadata": {},
   "outputs": [
    {
     "data": {
      "text/html": [
       "<div>\n",
       "<style scoped>\n",
       "    .dataframe tbody tr th:only-of-type {\n",
       "        vertical-align: middle;\n",
       "    }\n",
       "\n",
       "    .dataframe tbody tr th {\n",
       "        vertical-align: top;\n",
       "    }\n",
       "\n",
       "    .dataframe thead th {\n",
       "        text-align: right;\n",
       "    }\n",
       "</style>\n",
       "<table border=\"1\" class=\"dataframe\">\n",
       "  <thead>\n",
       "    <tr style=\"text-align: right;\">\n",
       "      <th></th>\n",
       "      <th>Fin</th>\n",
       "      <th>Steel</th>\n",
       "    </tr>\n",
       "  </thead>\n",
       "  <tbody>\n",
       "    <tr>\n",
       "      <th>Fin</th>\n",
       "      <td>0.002324</td>\n",
       "      <td>0.002648</td>\n",
       "    </tr>\n",
       "    <tr>\n",
       "      <th>Steel</th>\n",
       "      <td>0.002648</td>\n",
       "      <td>0.005356</td>\n",
       "    </tr>\n",
       "  </tbody>\n",
       "</table>\n",
       "</div>"
      ],
      "text/plain": [
       "            Fin     Steel\n",
       "Fin    0.002324  0.002648\n",
       "Steel  0.002648  0.005356"
      ]
     },
     "execution_count": 5,
     "metadata": {},
     "output_type": "execute_result"
    }
   ],
   "source": [
    "two_sec = ind_1[\"2010\":][[\"Fin\",'Steel']]\n",
    "# constructing weight\n",
    "w = np.array([0.6,0.4])\n",
    "# annual return\n",
    "annual_r = erk.annualize_return(two_sec,12)\n",
    "# annual volitility\n",
    "annual_v = erk.annual_vol(two_sec,12)\n",
    "# covariance between the 2\n",
    "cov = two_sec.cov()\n",
    "cov"
   ]
  },
  {
   "cell_type": "code",
   "execution_count": null,
   "metadata": {},
   "outputs": [],
   "source": []
  },
  {
   "cell_type": "code",
   "execution_count": null,
   "metadata": {},
   "outputs": [],
   "source": []
  },
  {
   "cell_type": "code",
   "execution_count": 67,
   "metadata": {},
   "outputs": [
    {
     "data": {
      "text/plain": [
       "Games    0.068212\n",
       "Fin      0.223371\n",
       "dtype: float64"
      ]
     },
     "execution_count": 67,
     "metadata": {},
     "output_type": "execute_result"
    }
   ],
   "source": [
    "l1 = [\"Games\",\"Fin\"]\n",
    "ar_1 = erk.annualize_return(ind_1['1996':'2000'],12) # annual return\n",
    "cov_1 = ind_1['1996':'2000'].cov()\n",
    "ar_1[l1]"
   ]
  },
  {
   "cell_type": "code",
   "execution_count": null,
   "metadata": {},
   "outputs": [],
   "source": []
  },
  {
   "cell_type": "code",
   "execution_count": 2,
   "metadata": {},
   "outputs": [],
   "source": [
    "def show_plot_ef2(n_points,r1,r2,cov_1,cov_2,cov_12):\n",
    "    \"\"\"\n",
    "    Plots 2 securities frontier and display simulation\n",
    "    \"\"\"\n",
    "    return_s = [r1,r2]\n",
    "    er = pd.Series(return_s)\n",
    "  \n",
    "    # constructing weight from 0 to 1 \n",
    "    weights = [np.array([w,1-w]) for w in np.linspace(0,1,n_points)]\n",
    "    # constructing return of porfolio with w from 0 -> 1 \n",
    "    rets = [erk.portfolio_return(w,er) for w in weights]\n",
    "    #constructing volitiltity of port with w from 0 -> 1 \n",
    "    \n",
    "    vols = [(w[0]**2*cov_1 +w[1]**2*cov_2 + 2*w[0]*w[1]*cov_12) for w in weights] \n",
    "    \n",
    "    frontier = pd.DataFrame({\"Return\":rets,\n",
    "                            \"Vol\":vols})\n",
    "    return frontier.plot.line(x=\"Vol\",y=\"Return\",style='.-')\n"
   ]
  },
  {
   "cell_type": "code",
   "execution_count": 3,
   "metadata": {},
   "outputs": [],
   "source": [
    "controls = widgets.interactive(show_plot_ef2,\n",
    "                              n_points=(10,40,2),\n",
    "                              r1=(0.01,1,0.02),\n",
    "                              r2=(0.01,1,0.02),\n",
    "                              cov_1=(0.01,0.5,0.01),\n",
    "                              cov_2=(0.01,0.5,0.01),\n",
    "                              cov_12=(0.01,0.5,0.01))"
   ]
  },
  {
   "cell_type": "code",
   "execution_count": 4,
   "metadata": {},
   "outputs": [
    {
     "data": {
      "application/vnd.jupyter.widget-view+json": {
       "model_id": "988566daadc94b28bbdcfbcd63e82b9e",
       "version_major": 2,
       "version_minor": 0
      },
      "text/plain": [
       "interactive(children=(IntSlider(value=24, description='n_points', max=40, min=10, step=2), FloatSlider(value=0…"
      ]
     },
     "metadata": {},
     "output_type": "display_data"
    }
   ],
   "source": [
    "display(controls)"
   ]
  },
  {
   "cell_type": "code",
   "execution_count": 7,
   "metadata": {},
   "outputs": [],
   "source": [
    "def bond_p(maturity,principal=1000,coupon_rate=0.1,coupons_per_year=2,interest_rate=np.array([0.1,0.2,0.3])):\n",
    "    \"\"\"\n",
    "    compute bond price with different annual interest rate\n",
    "    \"\"\"\n",
    "    n_coupons = coupons_per_year* maturity\n",
    "   \n",
    "    cashflow = (principal * coupon_rate)/coupons_per_year\n",
    "    new_rate = interest_rate/coupons_per_year\n",
    "    rate = np.repeat(new_rate,coupons_per_year)\n",
    "    bond = pd.DataFrame({'rate':rate,\n",
    "                        'cashflow':np.repeat(cashflow,n_coupons)})\n",
    "    bond.index = bond.index/2 + 1/coupons_per_year\n",
    "    bond['pv'] = erk.discount(bond['rate'],bond.index)\n",
    "    bond['cashflow'].iloc[-1] += principal\n",
    "    return bond['cashflow'].sum()"
   ]
  },
  {
   "cell_type": "code",
   "execution_count": 6,
   "metadata": {},
   "outputs": [
    {
     "data": {
      "text/plain": [
       "1400.0"
      ]
     },
     "execution_count": 6,
     "metadata": {},
     "output_type": "execute_result"
    }
   ],
   "source": [
    "bond_p(4,interest_rate=np.array([0.1,0.2,0.1,0.1]))"
   ]
  },
  {
   "cell_type": "code",
   "execution_count": 7,
   "metadata": {},
   "outputs": [
    {
     "data": {
      "text/plain": [
       "1    5\n",
       "2    6\n",
       "3    7\n",
       "dtype: int64"
      ]
     },
     "execution_count": 7,
     "metadata": {},
     "output_type": "execute_result"
    }
   ],
   "source": [
    "a = pd.Series(data=[5,6,7], index=[1,2,3])\n",
    "a"
   ]
  },
  {
   "cell_type": "code",
   "execution_count": 8,
   "metadata": {},
   "outputs": [
    {
     "data": {
      "text/html": [
       "<div>\n",
       "<style scoped>\n",
       "    .dataframe tbody tr th:only-of-type {\n",
       "        vertical-align: middle;\n",
       "    }\n",
       "\n",
       "    .dataframe tbody tr th {\n",
       "        vertical-align: top;\n",
       "    }\n",
       "\n",
       "    .dataframe thead th {\n",
       "        text-align: right;\n",
       "    }\n",
       "</style>\n",
       "<table border=\"1\" class=\"dataframe\">\n",
       "  <thead>\n",
       "    <tr style=\"text-align: right;\">\n",
       "      <th></th>\n",
       "      <th>0</th>\n",
       "    </tr>\n",
       "  </thead>\n",
       "  <tbody>\n",
       "    <tr>\n",
       "      <th>5</th>\n",
       "      <td>0.131687</td>\n",
       "    </tr>\n",
       "    <tr>\n",
       "      <th>6</th>\n",
       "      <td>0.087791</td>\n",
       "    </tr>\n",
       "    <tr>\n",
       "      <th>7</th>\n",
       "      <td>0.058528</td>\n",
       "    </tr>\n",
       "  </tbody>\n",
       "</table>\n",
       "</div>"
      ],
      "text/plain": [
       "          0\n",
       "5  0.131687\n",
       "6  0.087791\n",
       "7  0.058528"
      ]
     },
     "execution_count": 8,
     "metadata": {},
     "output_type": "execute_result"
    }
   ],
   "source": [
    "erk.discount(a,0.5)"
   ]
  },
  {
   "cell_type": "code",
   "execution_count": 5,
   "metadata": {},
   "outputs": [
    {
     "name": "stdout",
     "output_type": "stream",
     "text": [
      "[*********************100%***********************]  1 of 1 completed\n"
     ]
    }
   ],
   "source": [
    "data = yf.download('SPY',period='15y',interval='1d',proxy= None)['Close']\n",
    "spy = pd.DataFrame(data)"
   ]
  },
  {
   "cell_type": "code",
   "execution_count": 6,
   "metadata": {},
   "outputs": [
    {
     "data": {
      "text/html": [
       "<div>\n",
       "<style scoped>\n",
       "    .dataframe tbody tr th:only-of-type {\n",
       "        vertical-align: middle;\n",
       "    }\n",
       "\n",
       "    .dataframe tbody tr th {\n",
       "        vertical-align: top;\n",
       "    }\n",
       "\n",
       "    .dataframe thead th {\n",
       "        text-align: right;\n",
       "    }\n",
       "</style>\n",
       "<table border=\"1\" class=\"dataframe\">\n",
       "  <thead>\n",
       "    <tr style=\"text-align: right;\">\n",
       "      <th></th>\n",
       "      <th>Close</th>\n",
       "    </tr>\n",
       "    <tr>\n",
       "      <th>Date</th>\n",
       "      <th></th>\n",
       "    </tr>\n",
       "  </thead>\n",
       "  <tbody>\n",
       "    <tr>\n",
       "      <th>2006-05-30</th>\n",
       "      <td>126.099998</td>\n",
       "    </tr>\n",
       "    <tr>\n",
       "      <th>2006-05-31</th>\n",
       "      <td>127.510002</td>\n",
       "    </tr>\n",
       "    <tr>\n",
       "      <th>2006-06-01</th>\n",
       "      <td>128.729996</td>\n",
       "    </tr>\n",
       "    <tr>\n",
       "      <th>2006-06-02</th>\n",
       "      <td>129.000000</td>\n",
       "    </tr>\n",
       "    <tr>\n",
       "      <th>2006-06-05</th>\n",
       "      <td>127.120003</td>\n",
       "    </tr>\n",
       "    <tr>\n",
       "      <th>...</th>\n",
       "      <td>...</td>\n",
       "    </tr>\n",
       "    <tr>\n",
       "      <th>2021-05-24</th>\n",
       "      <td>419.170013</td>\n",
       "    </tr>\n",
       "    <tr>\n",
       "      <th>2021-05-25</th>\n",
       "      <td>418.239990</td>\n",
       "    </tr>\n",
       "    <tr>\n",
       "      <th>2021-05-26</th>\n",
       "      <td>419.070007</td>\n",
       "    </tr>\n",
       "    <tr>\n",
       "      <th>2021-05-27</th>\n",
       "      <td>419.290009</td>\n",
       "    </tr>\n",
       "    <tr>\n",
       "      <th>2021-05-28</th>\n",
       "      <td>420.720001</td>\n",
       "    </tr>\n",
       "  </tbody>\n",
       "</table>\n",
       "<p>3777 rows × 1 columns</p>\n",
       "</div>"
      ],
      "text/plain": [
       "                 Close\n",
       "Date                  \n",
       "2006-05-30  126.099998\n",
       "2006-05-31  127.510002\n",
       "2006-06-01  128.729996\n",
       "2006-06-02  129.000000\n",
       "2006-06-05  127.120003\n",
       "...                ...\n",
       "2021-05-24  419.170013\n",
       "2021-05-25  418.239990\n",
       "2021-05-26  419.070007\n",
       "2021-05-27  419.290009\n",
       "2021-05-28  420.720001\n",
       "\n",
       "[3777 rows x 1 columns]"
      ]
     },
     "execution_count": 6,
     "metadata": {},
     "output_type": "execute_result"
    }
   ],
   "source": [
    "spy"
   ]
  },
  {
   "cell_type": "code",
   "execution_count": null,
   "metadata": {},
   "outputs": [],
   "source": []
  }
 ],
 "metadata": {
  "kernelspec": {
   "display_name": "Python 3",
   "language": "python",
   "name": "python3"
  },
  "language_info": {
   "codemirror_mode": {
    "name": "ipython",
    "version": 3
   },
   "file_extension": ".py",
   "mimetype": "text/x-python",
   "name": "python",
   "nbconvert_exporter": "python",
   "pygments_lexer": "ipython3",
   "version": "3.8.5"
  }
 },
 "nbformat": 4,
 "nbformat_minor": 4
}
