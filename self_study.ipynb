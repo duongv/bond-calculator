{
 "cells": [
  {
   "cell_type": "code",
   "execution_count": 1,
   "metadata": {},
   "outputs": [],
   "source": [
    "import pandas as pd\n",
    "%load_ext autoreload\n",
    "%autoreload 2\n",
    "%matplotlib inline\n",
    "import edhec_risk_kit as erk\n",
    "import numpy as np\n",
    "from scipy.optimize import minimize\n",
    "import matplotlib.pyplot as plt\n",
    "import collections\n",
    "import math\n",
    "import ipywidgets as widgets\n",
    "import statsmodels.api as sm\n",
    "import numpy_financial as npf\n",
    "from IPython.display import display\n",
    "import colorama\n",
    "from colorama import Fore, Style\n",
    "import yfinance as yf\n",
    "import re\n",
    "import plotly.express as px\n",
    "import plotly.graph_objects as go\n",
    "import monthly_returns_heatmap as mrh # heatmap\n",
    "import yahoo_fin.stock_info as si\n",
    "import string\n",
    "import seaborn as sn\n",
    "import bond as b\n",
    "import finance as f \n",
    "import valuation as val"
   ]
  },
  {
   "cell_type": "code",
   "execution_count": 2,
   "metadata": {},
   "outputs": [
    {
     "data": {
      "application/vnd.jupyter.widget-view+json": {
       "model_id": "6560ee9882014778bd877bc031fb710a",
       "version_major": 2,
       "version_minor": 0
      },
      "text/plain": [
       "interactive(children=(Dropdown(description='Solve for', options=(('Macaulay Duration', 1), ('Price', 2), ('YTM…"
      ]
     },
     "metadata": {},
     "output_type": "display_data"
    }
   ],
   "source": [
    "b.bond_calculator()"
   ]
  },
  {
   "cell_type": "code",
   "execution_count": 4,
   "metadata": {},
   "outputs": [],
   "source": [
    "#f.stock_info_optimization()"
   ]
  },
  {
   "cell_type": "code",
   "execution_count": null,
   "metadata": {},
   "outputs": [],
   "source": []
  },
  {
   "cell_type": "code",
   "execution_count": 7,
   "metadata": {},
   "outputs": [],
   "source": [
    "import quantstats as qs\n",
    "stock = pd.DataFrame(qs.utils.download_returns('AAPL',period='5y'))\n"
   ]
  },
  {
   "cell_type": "code",
   "execution_count": 20,
   "metadata": {},
   "outputs": [],
   "source": [
    "df = pd.read_csv('AAPL.csv',index_col=0,header=0,na_values='-')\n"
   ]
  },
  {
   "cell_type": "code",
   "execution_count": null,
   "metadata": {},
   "outputs": [],
   "source": []
  },
  {
   "cell_type": "code",
   "execution_count": null,
   "metadata": {},
   "outputs": [],
   "source": []
  },
  {
   "cell_type": "code",
   "execution_count": null,
   "metadata": {},
   "outputs": [],
   "source": []
  },
  {
   "cell_type": "code",
   "execution_count": null,
   "metadata": {},
   "outputs": [],
   "source": [
    "years = roa.columns.to_list() # extract years to list\n",
    "for i in range(0,len(years)): # turn string list to int list\n",
    "    years[i] = int(years[i])\n",
    "\n",
    "tax_rate = []\n",
    "for i in years:   # year > 2016, tax rate = .35, else tax rate is .21\n",
    "    if i > 2016:\n",
    "        tax_rate.append(.21)\n",
    "    else:\n",
    "        tax_rate.append(.35)\n",
    "roa.loc['corp_tax_rate'] = tax_rate"
   ]
  },
  {
   "cell_type": "code",
   "execution_count": 1,
   "metadata": {},
   "outputs": [],
   "source": [
    "#commonsize_balance_sheet('AAPL.csv')"
   ]
  },
  {
   "cell_type": "code",
   "execution_count": 67,
   "metadata": {},
   "outputs": [],
   "source": [
    "#monthly payment\n",
    "def monthly_payment(principal,annual_rate,months,amortization=0):\n",
    "    \"\"\"\n",
    "    Compute monthly payment for amortized loan\n",
    "    \"\"\"\n",
    "    m_rate = annual_rate / 12\n",
    "    p = (principal* m_rate*(1+m_rate)**months) / ( (1+m_rate)**months -1)\n",
    "    p = round(p,2)\n",
    "    \n",
    "    \n",
    "    #amortization table\n",
    "    if amortization == 1: \n",
    "        unpaid_balances = [principal]\n",
    "        payments = [p]* (months+1)\n",
    "        interests = [0]\n",
    "        principal_payments = [0]\n",
    "\n",
    "        for i in range(1,len(payments)):\n",
    "            interest = m_rate * unpaid_balances[i-1]\n",
    "            interests.append(interest)\n",
    "\n",
    "            principal_payment= payments[i] - interests[i]\n",
    "            principal_payments.append(principal_payment)\n",
    "\n",
    "            unpaid_balance = unpaid_balances[i-1] - principal_payments[i]\n",
    "            unpaid_balances.append(unpaid_balance)\n",
    "\n",
    "        df = pd.DataFrame({'Payment':payments,\n",
    "                          'Interest':interests,\n",
    "                           'Principal Amount':principal_payments,\n",
    "                           'Balance Owed' : unpaid_balances})\n",
    "        df.iloc[0,0] = 0\n",
    "        print('\\n' + 'Amortization Table' + '\\n')\n",
    "        display(round(df,2))\n",
    "        #return df\n",
    "    \n",
    "    print('\\n' + 'Your monthly payment is : $' + str(p))"
   ]
  },
  {
   "cell_type": "code",
   "execution_count": 58,
   "metadata": {},
   "outputs": [],
   "source": [
    "#monthly_payment(100,0.01,12,True)"
   ]
  },
  {
   "cell_type": "code",
   "execution_count": 68,
   "metadata": {},
   "outputs": [
    {
     "data": {
      "application/vnd.jupyter.widget-view+json": {
       "model_id": "21b008900daa4377a3b871cf950e0844",
       "version_major": 2,
       "version_minor": 0
      },
      "text/plain": [
       "interactive(children=(FloatText(value=100.0, description='Principal'), FloatText(value=0.1, description='Annua…"
      ]
     },
     "metadata": {},
     "output_type": "display_data"
    }
   ],
   "source": [
    "gcontrols = widgets.interactive(monthly_payment,\n",
    "                               principal=widgets.FloatText(min=0,value=100,description='Principal'),\n",
    "                               annual_rate = widgets.FloatText(min=0,value=0.1,description='Annual Rate'),\n",
    "                               months=widgets.IntText(min=0,value=12,description='# of Months'),\n",
    "                               amortization=widgets.Dropdown(options=[('False',0),('True',1)],description='Schedule'))\n",
    "display(gcontrols)"
   ]
  },
  {
   "cell_type": "code",
   "execution_count": null,
   "metadata": {},
   "outputs": [],
   "source": []
  },
  {
   "cell_type": "code",
   "execution_count": null,
   "metadata": {},
   "outputs": [],
   "source": []
  },
  {
   "cell_type": "code",
   "execution_count": null,
   "metadata": {},
   "outputs": [],
   "source": []
  }
 ],
 "metadata": {
  "kernelspec": {
   "display_name": "Python 3",
   "language": "python",
   "name": "python3"
  },
  "language_info": {
   "codemirror_mode": {
    "name": "ipython",
    "version": 3
   },
   "file_extension": ".py",
   "mimetype": "text/x-python",
   "name": "python",
   "nbconvert_exporter": "python",
   "pygments_lexer": "ipython3",
   "version": "3.8.5"
  }
 },
 "nbformat": 4,
 "nbformat_minor": 4
}
